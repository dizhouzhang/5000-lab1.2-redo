{
 "cells": [
  {
   "cell_type": "markdown",
   "metadata": {},
   "source": [
    "---\n",
    "title: \"Hobbies\"\n",
    "author: \"Joe Zhang\"\n",
    "format: revealjs\n",
    "---\n",
    "\n",
    "## Getting up\n",
    "\n",
    "\n",
    "[@healy1978regression]\n",
    "- Turn off alarm\n",
    "- Get out of bed\n",
    "\n",
    "## Going to class\n",
    "\n",
    "- Get in class\n",
    "- leave class\n",
    "\n",
    "## Going to sleep\n",
    "\n",
    "- Get in bed\n",
    "- Count sheep"
   ]
  },
  {
   "cell_type": "code",
   "execution_count": null,
   "metadata": {},
   "outputs": [],
   "source": [
    "#| echo: true\n",
    "#| code-fold: true\n",
    "# comment\n",
    "11+1"
   ]
  }
 ],
 "metadata": {
  "kernelspec": {
   "display_name": "Python 3.9.0 64-bit",
   "language": "python",
   "name": "python3"
  },
  "language_info": {
   "name": "python",
   "version": "3.9.0"
  },
  "orig_nbformat": 4,
  "vscode": {
   "interpreter": {
    "hash": "aee8b7b246df8f9039afb4144a1f6fd8d2ca17a180786b69acc140d282b71a49"
   }
  }
 },
 "nbformat": 4,
 "nbformat_minor": 2
}
