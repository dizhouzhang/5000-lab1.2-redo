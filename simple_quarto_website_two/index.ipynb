{
  "cells": [
    {
      "cell_type": "raw",
      "metadata": {},
      "source": [
        "---\n",
        "title: \"About Myself\"\n",
        "html:\n",
        "        toc: true\n",
        "execute:\n",
        "    echo: false\n",
        "bibliography: referencetwo.bib\n",
        "---"
      ]
    },
    {
      "cell_type": "markdown",
      "metadata": {},
      "source": [
        "## Education\n",
        "\n",
        "<center>![](2023-09-15-02-58-50.png){width=300}\n",
        "\n",
        "\n",
        "<center>![](2023-09-15-02-59-47.png){width=400}"
      ]
    },
    {
      "cell_type": "markdown",
      "metadata": {},
      "source": [
        "This is Dizhou Zhang, I go by Joe. I graduated from Indiana University Bloomington [^h1] this May with a bechalor degree in mathematics [^h2] and economics. I am excited to join [Georgetown University](https://en.wikipedia.org/wiki/Georgetown_University) this May [^h3]"
      ]
    },
    {
      "cell_type": "markdown",
      "metadata": {},
      "source": [
        "## Markdown Table\n",
        "\n",
        "|Food | Country | City | Contient|\n",
        "|------:|:-----|---------|:------:|\n",
        "|   hambergur  |  USA  |    New York   |    North America  |\n",
        "|  french fries  |  Burgium |   Brussal   |   Europe  |\n",
        "|    beijing duck  |   China |     Beijing   |     Asia  |"
      ]
    },
    {
      "cell_type": "markdown",
      "metadata": {},
      "source": [
        "## Mermaid\n",
        "```{mermaid}\n",
        "%%| fig-cap: \"A Mermaid diagram\"\n",
        "%%| code-fold: false\n",
        "flowchart LR\n",
        "  A[crystal city] --> B(pentagon city)\n",
        "  B --> C{pentagon}\n",
        "  C --> D[Arlington cemetry]\n",
        "  C --> E[Rosslyn]\n",
        "```"
      ]
    },
    {
      "cell_type": "markdown",
      "metadata": {},
      "source": [
        "## Math Expression\n",
        "* This is an example of a bulleted list with math \n",
        "* Here is an in-line math equation $f(x)=\\frac{e^{x^2}}{2}$\n",
        "\n",
        "$$\n",
        "g(x)=x^n \\rightarrow \\frac{\\partial g}{\\partial x}=n x^{n-1}\n",
        "$$"
      ]
    },
    {
      "cell_type": "markdown",
      "metadata": {},
      "source": [
        "[^h1]: [@healy1978regression]\n",
        "[^h2]: this is note2\n",
        "[^h3]: this is note3"
      ]
    },
    {
      "cell_type": "markdown",
      "metadata": {},
      "source": [
        "## Column\n",
        "\n",
        ":::: {.columns}\n",
        "::: {.column width=\"50%\"}\n",
        "### Countries\n",
        "\n",
        "* USA\n",
        "* France\n",
        "* Germany\n",
        ":::\n",
        "\n",
        "::: {.column width=\"50%\"}\n",
        "### Languages\n",
        "\n",
        "* English\n",
        "* French\n",
        "* Germany\n",
        "\n",
        ":::\n",
        "::::"
      ]
    },
    {
      "cell_type": "markdown",
      "metadata": {},
      "source": [
        "> 'this is a blockquote'"
      ]
    }
  ],
  "metadata": {
    "kernelspec": {
      "display_name": "Python 3.9.0 64-bit",
      "language": "python",
      "name": "python3"
    },
    "language_info": {
      "name": "python",
      "version": "3.9.0"
    },
    "vscode": {
      "interpreter": {
        "hash": "aee8b7b246df8f9039afb4144a1f6fd8d2ca17a180786b69acc140d282b71a49"
      }
    }
  },
  "nbformat": 4,
  "nbformat_minor": 4
}
